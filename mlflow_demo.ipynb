{
 "cells": [
  {
   "cell_type": "code",
   "execution_count": 16,
   "metadata": {},
   "outputs": [
    {
     "name": "stdout",
     "output_type": "stream",
     "text": [
      "The autoreload extension is already loaded. To reload it, use:\n",
      "  %reload_ext autoreload\n"
     ]
    }
   ],
   "source": [
    "%load_ext autoreload\n",
    "%autoreload 2\n",
    "\n",
    "import udf_utils\n",
    "from sklearn import linear_model\n",
    "from sklearn import ensemble\n",
    "from sklearn.pipeline import Pipeline\n",
    "import sklearn.preprocessing as sk_prep\n",
    "import itertools\n",
    "import re\n",
    "import mlflow"
   ]
  },
  {
   "cell_type": "markdown",
   "metadata": {},
   "source": [
    "## MLFlow demo\n",
    "\n",
    "This notebook have code to run some examples to use mlflow in machine learning problems"
   ]
  },
  {
   "cell_type": "markdown",
   "metadata": {},
   "source": [
    "--------\n",
    "### Regression examples\n",
    "--------\n",
    "\n",
    "1. First, we need to define the data to use, in this case the *problem_type* is **regression**"
   ]
  },
  {
   "cell_type": "code",
   "execution_count": null,
   "metadata": {},
   "outputs": [],
   "source": [
    "demo_regression = udf_utils.ML_FLOW(problem_type = 'regression').generate_data()\n",
    "experiment_name = 'Regression problem'"
   ]
  },
  {
   "cell_type": "markdown",
   "metadata": {},
   "source": [
    "2. Then, we need to define the model(s) and the hyperparameters to use in the trainning\n",
    "\n",
    "A first model could be a linear regression. This can be our base model."
   ]
  },
  {
   "cell_type": "code",
   "execution_count": null,
   "metadata": {},
   "outputs": [],
   "source": [
    "# Hyper parameters to use\n",
    "fit_intercept = [True, False]\n",
    "\n",
    "# Parameters defined by the user to log\n",
    "other_params = {'udf_model_type': 'Linear Regression', 'udf_regularization': 'None', 'udf_scaler': 'Standard'}\n",
    "\n",
    "def model_function(**kwargs):\n",
    "    \n",
    "    udf_pipeline = Pipeline([('scaler', sk_prep.StandardScaler()), ('regression', linear_model.LinearRegression(**kwargs))])\n",
    "    \n",
    "    return udf_pipeline\n",
    "\n",
    "for intercept_value in fit_intercept:\n",
    "    hyper_params = {'fit_intercept': intercept_value}\n",
    "    demo_regression.run_experiments_autolog(experiment_name, 'Base line model', model_function, hyper_params, other_params)"
   ]
  },
  {
   "cell_type": "markdown",
   "metadata": {},
   "source": [
    "Then we can start to use regularization os use complex model to see if we have an improvement."
   ]
  },
  {
   "cell_type": "code",
   "execution_count": null,
   "metadata": {},
   "outputs": [],
   "source": [
    "# Hyper parameters to use\n",
    "fit_intercept = [True, False]\n",
    "regularization = [0.1, 0.5, 1.0, 2.0, 5.0, 10, 50, 100]\n",
    "\n",
    "# Parameters defined by the user to log\n",
    "other_params = {'udf_model_type': 'Ridge Regression', 'udf_scaler': 'Standard'}\n",
    "\n",
    "def model_function(**kwargs):\n",
    "    \n",
    "    udf_pipeline = Pipeline([('scaler', sk_prep.StandardScaler()), ('regression', linear_model.Ridge(**kwargs))])\n",
    "    \n",
    "    return udf_pipeline\n",
    "\n",
    "for intercept_value, alpha_value in itertools.product(fit_intercept, regularization):\n",
    "    hyper_params = {'fit_intercept': intercept_value,\n",
    "                    'alpha': alpha_value}\n",
    "    \n",
    "    demo_regression.run_experiments_autolog(experiment_name, 'Complex model', model_function, hyper_params, other_params)"
   ]
  },
  {
   "cell_type": "code",
   "execution_count": null,
   "metadata": {},
   "outputs": [],
   "source": [
    "# Hyper parameters to use\n",
    "fit_intercept = [True, False]\n",
    "regularization = [0.1, 0.5, 1.0, 2.0, 5.0, 10, 50, 100]\n",
    "\n",
    "# Parameters defined by the user to log\n",
    "other_params = {'udf_model_type': 'Lasso Regression', 'udf_scaler': 'Standard'}\n",
    "\n",
    "def model_function(**kwargs):\n",
    "    \n",
    "    udf_pipeline = Pipeline([('scaler', sk_prep.StandardScaler()), ('regression', linear_model.Lasso(**kwargs))])\n",
    "    \n",
    "    return udf_pipeline\n",
    "\n",
    "for intercept_value, alpha_value in itertools.product(fit_intercept, regularization):\n",
    "    hyper_params = {'fit_intercept': intercept_value,\n",
    "                    'alpha': alpha_value}\n",
    "    \n",
    "    demo_regression.run_experiments_autolog(experiment_name, 'Complex model', model_function, hyper_params, other_params)"
   ]
  },
  {
   "cell_type": "markdown",
   "metadata": {},
   "source": [
    "--------\n",
    "### Classification examples\n",
    "--------\n",
    "\n",
    "\n",
    "1. First, we need to define the data to use, in this case the *problem_type* is **classification**"
   ]
  },
  {
   "cell_type": "code",
   "execution_count": 2,
   "metadata": {},
   "outputs": [],
   "source": [
    "demo_classification = udf_utils.ML_FLOW(problem_type = 'classification').generate_data(n_classes = 2)\n",
    "experiment_name = 'Classification problem'"
   ]
  },
  {
   "cell_type": "markdown",
   "metadata": {},
   "source": [
    "2. Then, we need to define the model(s) and the hyperparameters to use in the trainning\n",
    "\n",
    "A first model could be a logistic regression. This can be our base model."
   ]
  },
  {
   "cell_type": "code",
   "execution_count": 3,
   "metadata": {},
   "outputs": [
    {
     "name": "stderr",
     "output_type": "stream",
     "text": [
      "2022/11/16 11:03:04 INFO mlflow.tracking.fluent: Autologging successfully enabled for sklearn.\n",
      "/home/vasamayoa/miniconda3/envs/mlflow_demo/lib/python3.8/site-packages/sklearn/utils/validation.py:1111: DataConversionWarning: A column-vector y was passed when a 1d array was expected. Please change the shape of y to (n_samples, ), for example using ravel().\n",
      "  y = column_or_1d(y, warn=True)\n",
      "2022/11/16 11:03:08 WARNING mlflow.utils.autologging_utils: MLflow autologging encountered a warning: \"/home/vasamayoa/miniconda3/envs/mlflow_demo/lib/python3.8/site-packages/_distutils_hack/__init__.py:33: UserWarning: Setuptools is replacing distutils.\"\n"
     ]
    },
    {
     "ename": "AttributeError",
     "evalue": "'DataFrame' object has no attribute 'reshape'",
     "output_type": "error",
     "traceback": [
      "\u001b[0;31m---------------------------------------------------------------------------\u001b[0m",
      "\u001b[0;31mAttributeError\u001b[0m                            Traceback (most recent call last)",
      "Input \u001b[0;32mIn [3]\u001b[0m, in \u001b[0;36m<cell line: 10>\u001b[0;34m()\u001b[0m\n\u001b[1;32m     10\u001b[0m \u001b[38;5;28;01mfor\u001b[39;00m intercept_value \u001b[38;5;129;01min\u001b[39;00m fit_intercept:\n\u001b[1;32m     11\u001b[0m     hyper_params \u001b[38;5;241m=\u001b[39m {\u001b[38;5;124m'\u001b[39m\u001b[38;5;124mfit_intercept\u001b[39m\u001b[38;5;124m'\u001b[39m: intercept_value}\n\u001b[0;32m---> 12\u001b[0m     \u001b[43mdemo_classification\u001b[49m\u001b[38;5;241;43m.\u001b[39;49m\u001b[43mrun_experiments_autolog\u001b[49m\u001b[43m(\u001b[49m\u001b[43mexperiment_name\u001b[49m\u001b[43m,\u001b[49m\u001b[43m \u001b[49m\u001b[38;5;124;43m'\u001b[39;49m\u001b[38;5;124;43mBase line model\u001b[39;49m\u001b[38;5;124;43m'\u001b[39;49m\u001b[43m,\u001b[49m\u001b[43m \u001b[49m\u001b[43mmodel_function\u001b[49m\u001b[43m,\u001b[49m\u001b[43m \u001b[49m\u001b[43mhyper_params\u001b[49m\u001b[43m,\u001b[49m\u001b[43m \u001b[49m\u001b[43mother_params\u001b[49m\u001b[43m)\u001b[49m\n",
      "File \u001b[0;32m/mnt/c/Users/Víctor Samayoa/Documents/Qbitz/Git/mlflow-demo/udf_utils.py:189\u001b[0m, in \u001b[0;36mML_FLOW.run_experiments_autolog\u001b[0;34m(self, experiment_name, run_name, model_function, hyper_params, other_params)\u001b[0m\n\u001b[1;32m    186\u001b[0m prob_train \u001b[38;5;241m=\u001b[39m model\u001b[38;5;241m.\u001b[39mpredict_proba(\u001b[38;5;28mself\u001b[39m\u001b[38;5;241m.\u001b[39mx_train)\n\u001b[1;32m    187\u001b[0m prob_test \u001b[38;5;241m=\u001b[39m model\u001b[38;5;241m.\u001b[39mpredict_proba(\u001b[38;5;28mself\u001b[39m\u001b[38;5;241m.\u001b[39mx_test)\n\u001b[0;32m--> 189\u001b[0m train_path \u001b[38;5;241m=\u001b[39m \u001b[38;5;28;43mself\u001b[39;49m\u001b[38;5;241;43m.\u001b[39;49m\u001b[43m_get_probs_pd\u001b[49m\u001b[43m(\u001b[49m\u001b[43mprob_train\u001b[49m\u001b[43m,\u001b[49m\u001b[43m \u001b[49m\u001b[38;5;28;43mself\u001b[39;49m\u001b[38;5;241;43m.\u001b[39;49m\u001b[43my_train\u001b[49m\u001b[43m,\u001b[49m\u001b[43m \u001b[49m\u001b[38;5;124;43m'\u001b[39;49m\u001b[38;5;124;43mtrain.csv\u001b[39;49m\u001b[38;5;124;43m'\u001b[39;49m\u001b[43m)\u001b[49m\n\u001b[1;32m    190\u001b[0m test_path \u001b[38;5;241m=\u001b[39m \u001b[38;5;28mself\u001b[39m\u001b[38;5;241m.\u001b[39m_get_probs_pd(prob_test, \u001b[38;5;28mself\u001b[39m\u001b[38;5;241m.\u001b[39my_test, \u001b[38;5;124m'\u001b[39m\u001b[38;5;124mtest.csv\u001b[39m\u001b[38;5;124m'\u001b[39m)\n\u001b[1;32m    192\u001b[0m \u001b[38;5;66;03m# Log the table into mlflow\u001b[39;00m\n",
      "File \u001b[0;32m/mnt/c/Users/Víctor Samayoa/Documents/Qbitz/Git/mlflow-demo/udf_utils.py:92\u001b[0m, in \u001b[0;36mML_FLOW._get_probs_pd\u001b[0;34m(self, probs, y, file_name, path_name)\u001b[0m\n\u001b[1;32m     90\u001b[0m \u001b[38;5;28;01mdef\u001b[39;00m \u001b[38;5;21m_get_probs_pd\u001b[39m(\u001b[38;5;28mself\u001b[39m, probs, y, file_name, path_name \u001b[38;5;241m=\u001b[39m \u001b[38;5;124m'\u001b[39m\u001b[38;5;124m'\u001b[39m):\n\u001b[0;32m---> 92\u001b[0m     probs_np \u001b[38;5;241m=\u001b[39m np\u001b[38;5;241m.\u001b[39mconcatenate((probs, \u001b[43my\u001b[49m\u001b[38;5;241;43m.\u001b[39;49m\u001b[43mreshape\u001b[49m(\u001b[38;5;241m1\u001b[39m, \u001b[38;5;241m-\u001b[39m\u001b[38;5;241m1\u001b[39m)\u001b[38;5;241m.\u001b[39mT), axis \u001b[38;5;241m=\u001b[39m \u001b[38;5;241m1\u001b[39m)\n\u001b[1;32m     94\u001b[0m     columns_name \u001b[38;5;241m=\u001b[39m [\u001b[38;5;124m'\u001b[39m\u001b[38;5;124mprob_class_\u001b[39m\u001b[38;5;132;01m{}\u001b[39;00m\u001b[38;5;124m'\u001b[39m\u001b[38;5;241m.\u001b[39mformat(i) \u001b[38;5;28;01mfor\u001b[39;00m i \u001b[38;5;129;01min\u001b[39;00m \u001b[38;5;28mrange\u001b[39m(\u001b[38;5;28mself\u001b[39m\u001b[38;5;241m.\u001b[39mn_classes)]\n\u001b[1;32m     95\u001b[0m     columns_name \u001b[38;5;241m+\u001b[39m\u001b[38;5;241m=\u001b[39m [\u001b[38;5;124m'\u001b[39m\u001b[38;5;124my\u001b[39m\u001b[38;5;124m'\u001b[39m]\n",
      "File \u001b[0;32m~/miniconda3/envs/mlflow_demo/lib/python3.8/site-packages/pandas/core/generic.py:5902\u001b[0m, in \u001b[0;36mNDFrame.__getattr__\u001b[0;34m(self, name)\u001b[0m\n\u001b[1;32m   5895\u001b[0m \u001b[38;5;28;01mif\u001b[39;00m (\n\u001b[1;32m   5896\u001b[0m     name \u001b[38;5;129;01mnot\u001b[39;00m \u001b[38;5;129;01min\u001b[39;00m \u001b[38;5;28mself\u001b[39m\u001b[38;5;241m.\u001b[39m_internal_names_set\n\u001b[1;32m   5897\u001b[0m     \u001b[38;5;129;01mand\u001b[39;00m name \u001b[38;5;129;01mnot\u001b[39;00m \u001b[38;5;129;01min\u001b[39;00m \u001b[38;5;28mself\u001b[39m\u001b[38;5;241m.\u001b[39m_metadata\n\u001b[1;32m   5898\u001b[0m     \u001b[38;5;129;01mand\u001b[39;00m name \u001b[38;5;129;01mnot\u001b[39;00m \u001b[38;5;129;01min\u001b[39;00m \u001b[38;5;28mself\u001b[39m\u001b[38;5;241m.\u001b[39m_accessors\n\u001b[1;32m   5899\u001b[0m     \u001b[38;5;129;01mand\u001b[39;00m \u001b[38;5;28mself\u001b[39m\u001b[38;5;241m.\u001b[39m_info_axis\u001b[38;5;241m.\u001b[39m_can_hold_identifiers_and_holds_name(name)\n\u001b[1;32m   5900\u001b[0m ):\n\u001b[1;32m   5901\u001b[0m     \u001b[38;5;28;01mreturn\u001b[39;00m \u001b[38;5;28mself\u001b[39m[name]\n\u001b[0;32m-> 5902\u001b[0m \u001b[38;5;28;01mreturn\u001b[39;00m \u001b[38;5;28;43mobject\u001b[39;49m\u001b[38;5;241;43m.\u001b[39;49m\u001b[38;5;21;43m__getattribute__\u001b[39;49m\u001b[43m(\u001b[49m\u001b[38;5;28;43mself\u001b[39;49m\u001b[43m,\u001b[49m\u001b[43m \u001b[49m\u001b[43mname\u001b[49m\u001b[43m)\u001b[49m\n",
      "\u001b[0;31mAttributeError\u001b[0m: 'DataFrame' object has no attribute 'reshape'"
     ]
    }
   ],
   "source": [
    "fit_intercept = [True, False]\n",
    "other_params = {'udf_model_type': 'Logistic Regression', 'udf_regularization': 'None', 'udf_scaler': 'Standard'}\n",
    "\n",
    "def model_function(**kwargs):\n",
    "    \n",
    "    udf_pipeline = Pipeline([('scaler', sk_prep.StandardScaler()), ('classification', linear_model.LogisticRegression(**kwargs))])\n",
    "    \n",
    "    return udf_pipeline\n",
    "\n",
    "for intercept_value in fit_intercept:\n",
    "    hyper_params = {'fit_intercept': intercept_value}\n",
    "    demo_classification.run_experiments_autolog(experiment_name, 'Base line model', model_function, hyper_params, other_params)"
   ]
  },
  {
   "cell_type": "markdown",
   "metadata": {},
   "source": [
    "Then we can start to use regularization os use complex model to see if we have an improvement."
   ]
  },
  {
   "cell_type": "code",
   "execution_count": null,
   "metadata": {},
   "outputs": [],
   "source": [
    "# Hyper parameters to use\n",
    "fit_intercept = [True, False]\n",
    "penalty = ['l2', 'l1']\n",
    "regularization = [0.001, 0.01, 0.05, 0.1, 0.5, 1, 5, 10]\n",
    "\n",
    "# Parameters defined by the user to log\n",
    "other_params = {'udf_model_type': 'Logistic Regression', 'udf_scaler': 'Standard'}\n",
    "\n",
    "def model_function(**kwargs):\n",
    "    \n",
    "    # Solver saga allow all the penalties\n",
    "    udf_pipeline = Pipeline([('scaler', sk_prep.StandardScaler()), ('classification', linear_model.LogisticRegression(**kwargs, solver = 'saga'))])\n",
    "    \n",
    "    return udf_pipeline\n",
    "\n",
    "for intercept_value, penalty_type, c_value in itertools.product(fit_intercept, penalty, regularization):\n",
    "    hyper_params = {'fit_intercept': intercept_value,\n",
    "                    'penalty': penalty_type,\n",
    "                    'C': c_value}\n",
    "    \n",
    "    demo_classification.run_experiments_autolog(experiment_name, 'Complex model', model_function, hyper_params, other_params)"
   ]
  },
  {
   "cell_type": "code",
   "execution_count": null,
   "metadata": {},
   "outputs": [],
   "source": [
    "# Hyper parameters to use\n",
    "fit_intercept = [True, False]\n",
    "penalty = ['elasticnet']\n",
    "regularization = [0.001, 0.01, 0.05, 0.1, 0.5, 0.9]\n",
    "l1_ratio = [0.25, 0.5, 0.75]\n",
    "\n",
    "# Parameters defined by the user to log\n",
    "other_params = {'udf_model_type': 'Logistic Regression', 'udf_scaler': 'Standard'}\n",
    "\n",
    "def model_function(**kwargs):\n",
    "    \n",
    "    # Solver saga allow all the penalties\n",
    "    udf_pipeline = Pipeline([('scaler', sk_prep.StandardScaler()), ('classification', linear_model.LogisticRegression(**kwargs, solver = 'saga'))])\n",
    "    \n",
    "    return udf_pipeline\n",
    "\n",
    "for intercept_value, penalty_type, c_value, l1_ratio_value in itertools.product(fit_intercept, penalty, regularization, l1_ratio):\n",
    "    hyper_params = {'fit_intercept': intercept_value,\n",
    "                    'penalty': penalty_type,\n",
    "                    'C': c_value,\n",
    "                    'l1_ratio': l1_ratio_value}\n",
    "    \n",
    "    demo_classification.run_experiments_autolog(experiment_name, 'Complex model', model_function, hyper_params, other_params)"
   ]
  },
  {
   "cell_type": "markdown",
   "metadata": {},
   "source": [
    "We can try with different kinds of algorithms like **random forest**"
   ]
  },
  {
   "cell_type": "code",
   "execution_count": null,
   "metadata": {},
   "outputs": [],
   "source": [
    "# Hyper parameters to use\n",
    "n_estimators = [10, 20, 30, 40]\n",
    "criterion = ['gini', 'entropy', 'log_loss']\n",
    "max_features = ['sqrt', 'log2', 0.25, 0.5, 0.75]\n",
    "\n",
    "# Parameters defined by the user to log\n",
    "other_params = {'udf_model_type': 'Random Forest'}\n",
    "\n",
    "def model_function(**kwargs):\n",
    "    \n",
    "    udf_pipeline = Pipeline([('classification', ensemble.RandomForestClassifier(**kwargs))])\n",
    "    \n",
    "    return udf_pipeline\n",
    "\n",
    "for n_estimators_value, criterion_type, max_features_value in itertools.product(n_estimators, criterion, max_features):\n",
    "    hyper_params = {'n_estimators': n_estimators_value,\n",
    "                    'criterion': criterion_type,\n",
    "                    'max_features': max_features_value}\n",
    "    \n",
    "    demo_classification.run_experiments_autolog(experiment_name, 'Ensemble', model_function, hyper_params, other_params)"
   ]
  },
  {
   "cell_type": "markdown",
   "metadata": {},
   "source": [
    "--------\n",
    "# Load Model\n",
    "--------"
   ]
  },
  {
   "cell_type": "code",
   "execution_count": 17,
   "metadata": {},
   "outputs": [
    {
     "data": {
      "text/plain": [
       "['2']"
      ]
     },
     "execution_count": 17,
     "metadata": {},
     "output_type": "execute_result"
    }
   ],
   "source": [
    "experiments_list = mlflow.search_experiments(filter_string = \"name='{}'\".format(experiment_name))\n",
    "id_list = [experiment.experiment_id for experiment in experiments_list]\n",
    "id_list"
   ]
  },
  {
   "cell_type": "code",
   "execution_count": 24,
   "metadata": {},
   "outputs": [
    {
     "data": {
      "text/plain": [
       "'file:///mnt/c/Users/V%C3%ADctor%20Samayoa/Documents/Qbitz/Git/mlflow-demo/mlruns/2/70cf77d29da244218a66f94f27ccb4d7/artifacts'"
      ]
     },
     "execution_count": 24,
     "metadata": {},
     "output_type": "execute_result"
    }
   ],
   "source": [
    "# Regression metric\n",
    "#metric_name = 'metrics.test_rms'\n",
    "\n",
    "# Classification metric\n",
    "metric_name = 'metrics.test_accuracy_score'\n",
    "\n",
    "var_artifact_uri = mlflow.search_runs(id_list) \\\n",
    "                         .sort_values(by = metric_name, ascending = False) \\\n",
    "                         .artifact_uri[0]\n",
    "\n",
    "var_artifact_uri"
   ]
  },
  {
   "cell_type": "code",
   "execution_count": 25,
   "metadata": {},
   "outputs": [
    {
     "data": {
      "text/plain": [
       "'runs:/70cf77d29da244218a66f94f27ccb4d7/model'"
      ]
     },
     "execution_count": 25,
     "metadata": {},
     "output_type": "execute_result"
    }
   ],
   "source": [
    "var_regex = re.search(r'/mlruns/.*/(.*)/artifacts', var_artifact_uri)\n",
    "model_path = 'runs:/' + var_regex.group(1) + '/model'\n",
    "model_path"
   ]
  },
  {
   "cell_type": "code",
   "execution_count": 29,
   "metadata": {},
   "outputs": [],
   "source": [
    "my_model = mlflow.sklearn.load_model(model_path)"
   ]
  },
  {
   "cell_type": "code",
   "execution_count": 30,
   "metadata": {},
   "outputs": [
    {
     "data": {
      "text/plain": [
       "array([0, 0, 0, 0, 1, 1, 0, 1, 1, 0, 0, 0, 1, 1, 1, 1, 0, 1, 1, 1, 0, 1,\n",
       "       1, 0, 1, 1, 0, 1, 1, 0, 1, 0, 1, 1, 0, 1, 1, 1, 0, 1, 1, 1, 1, 0,\n",
       "       1, 1, 0, 0, 1, 0, 1, 1, 0, 1, 0, 1, 1, 1, 0, 0, 1, 1, 0, 1, 1, 0,\n",
       "       1, 0, 1, 0, 0, 1, 1, 1, 0, 0, 0, 0, 1, 1, 0, 0, 1, 1, 0, 1, 1, 1,\n",
       "       0, 1, 1, 0, 1, 1, 0, 1, 0, 1, 1, 0, 1, 1, 1, 1, 1, 0, 0, 1, 1, 0,\n",
       "       0, 1, 0, 0, 0, 0, 0, 0, 1, 1, 0, 0, 1, 0, 0, 1, 0, 1, 0, 1, 1, 0,\n",
       "       1, 1, 0, 1, 1, 1, 0, 0, 0, 0, 1, 1, 0, 0, 0, 0, 1, 1, 0, 0, 1, 0,\n",
       "       0, 1, 0, 0, 1, 1, 1, 1, 1, 1, 0, 0, 1, 0, 1, 1, 1, 1, 1, 0, 1, 1,\n",
       "       0, 1, 0, 0, 1, 0, 1, 1, 0, 0, 0, 1, 0, 0, 0, 1, 1, 1, 1, 1, 0, 1,\n",
       "       0, 0, 1, 1, 0, 1, 0, 1, 1, 1, 1, 0, 1, 1, 0, 0, 0, 1, 0, 1, 0, 1,\n",
       "       0, 1, 1, 1, 1, 1, 0, 0, 0, 0, 0, 1, 0, 1, 1, 1, 1, 1, 1, 1, 0, 0,\n",
       "       0, 1, 1, 0, 0, 1, 0, 0, 1, 1, 1, 0, 1, 1, 1, 1, 0, 0, 0, 0, 1, 1,\n",
       "       0, 0, 0, 0, 1, 1, 0, 1, 0, 1, 0, 1, 1, 0, 1, 1, 0, 0, 1, 1, 1, 1,\n",
       "       1, 1, 1, 0, 1, 0, 0, 0, 0, 1, 0, 1, 0, 1])"
      ]
     },
     "execution_count": 30,
     "metadata": {},
     "output_type": "execute_result"
    }
   ],
   "source": [
    "# Regression\n",
    "#my_model.predict(demo_regression.x_train)\n",
    "\n",
    "# Clasification\n",
    "my_model.predict(demo_classification.x_test)"
   ]
  },
  {
   "cell_type": "code",
   "execution_count": 31,
   "metadata": {},
   "outputs": [
    {
     "data": {
      "text/plain": [
       "array([[0.98411086, 0.01588914],\n",
       "       [0.73570781, 0.26429219],\n",
       "       [0.91359349, 0.08640651],\n",
       "       [0.56545424, 0.43454576],\n",
       "       [0.46633733, 0.53366267],\n",
       "       [0.05807924, 0.94192076],\n",
       "       [0.77281579, 0.22718421],\n",
       "       [0.36056152, 0.63943848],\n",
       "       [0.23249973, 0.76750027],\n",
       "       [0.5772653 , 0.4227347 ],\n",
       "       [0.97899389, 0.02100611],\n",
       "       [0.53600734, 0.46399266],\n",
       "       [0.04761788, 0.95238212],\n",
       "       [0.33461577, 0.66538423],\n",
       "       [0.48170992, 0.51829008],\n",
       "       [0.41003707, 0.58996293],\n",
       "       [0.93969499, 0.06030501],\n",
       "       [0.12136402, 0.87863598],\n",
       "       [0.18157623, 0.81842377],\n",
       "       [0.17666669, 0.82333331],\n",
       "       [0.8406243 , 0.1593757 ],\n",
       "       [0.05433343, 0.94566657],\n",
       "       [0.01422153, 0.98577847],\n",
       "       [0.99406542, 0.00593458],\n",
       "       [0.39996821, 0.60003179],\n",
       "       [0.37944285, 0.62055715],\n",
       "       [0.5942216 , 0.4057784 ],\n",
       "       [0.06764768, 0.93235232],\n",
       "       [0.31045108, 0.68954892],\n",
       "       [0.51444362, 0.48555638],\n",
       "       [0.31346169, 0.68653831],\n",
       "       [0.79497184, 0.20502816],\n",
       "       [0.48682379, 0.51317621],\n",
       "       [0.14701079, 0.85298921],\n",
       "       [0.57968728, 0.42031272],\n",
       "       [0.15875682, 0.84124318],\n",
       "       [0.36349058, 0.63650942],\n",
       "       [0.42190772, 0.57809228],\n",
       "       [0.95344209, 0.04655791],\n",
       "       [0.49373978, 0.50626022],\n",
       "       [0.06808106, 0.93191894],\n",
       "       [0.36885034, 0.63114966],\n",
       "       [0.04886299, 0.95113701],\n",
       "       [0.85699427, 0.14300573],\n",
       "       [0.09092361, 0.90907639],\n",
       "       [0.45040754, 0.54959246],\n",
       "       [0.6605004 , 0.3394996 ],\n",
       "       [0.61827646, 0.38172354],\n",
       "       [0.41133654, 0.58866346],\n",
       "       [0.98370373, 0.01629627],\n",
       "       [0.16288573, 0.83711427],\n",
       "       [0.29608808, 0.70391192],\n",
       "       [0.50277362, 0.49722638],\n",
       "       [0.24097629, 0.75902371],\n",
       "       [0.72971478, 0.27028522],\n",
       "       [0.296368  , 0.703632  ],\n",
       "       [0.01996743, 0.98003257],\n",
       "       [0.34960651, 0.65039349],\n",
       "       [0.74775551, 0.25224449],\n",
       "       [0.61246776, 0.38753224],\n",
       "       [0.3006281 , 0.6993719 ],\n",
       "       [0.03469669, 0.96530331],\n",
       "       [0.75457547, 0.24542453],\n",
       "       [0.46489109, 0.53510891],\n",
       "       [0.02922405, 0.97077595],\n",
       "       [0.8801691 , 0.1198309 ],\n",
       "       [0.31874097, 0.68125903],\n",
       "       [0.86217885, 0.13782115],\n",
       "       [0.29882161, 0.70117839],\n",
       "       [0.58820617, 0.41179383],\n",
       "       [0.96910692, 0.03089308],\n",
       "       [0.16129546, 0.83870454],\n",
       "       [0.03831076, 0.96168924],\n",
       "       [0.22345195, 0.77654805],\n",
       "       [0.91982713, 0.08017287],\n",
       "       [0.93222623, 0.06777377],\n",
       "       [0.93701864, 0.06298136],\n",
       "       [0.9226962 , 0.0773038 ],\n",
       "       [0.07511126, 0.92488874],\n",
       "       [0.22115454, 0.77884546],\n",
       "       [0.58796027, 0.41203973],\n",
       "       [0.71303948, 0.28696052],\n",
       "       [0.1597802 , 0.8402198 ],\n",
       "       [0.39960153, 0.60039847],\n",
       "       [0.69642981, 0.30357019],\n",
       "       [0.14349484, 0.85650516],\n",
       "       [0.34994294, 0.65005706],\n",
       "       [0.08793716, 0.91206284],\n",
       "       [0.76659005, 0.23340995],\n",
       "       [0.44717302, 0.55282698],\n",
       "       [0.15632113, 0.84367887],\n",
       "       [0.73634078, 0.26365922],\n",
       "       [0.1389528 , 0.8610472 ],\n",
       "       [0.16142825, 0.83857175],\n",
       "       [0.70595164, 0.29404836],\n",
       "       [0.08492347, 0.91507653],\n",
       "       [0.7610131 , 0.2389869 ],\n",
       "       [0.15775131, 0.84224869],\n",
       "       [0.08608899, 0.91391101],\n",
       "       [0.69828655, 0.30171345],\n",
       "       [0.47354304, 0.52645696],\n",
       "       [0.28775032, 0.71224968],\n",
       "       [0.11458777, 0.88541223],\n",
       "       [0.48428422, 0.51571578],\n",
       "       [0.1116771 , 0.8883229 ],\n",
       "       [0.82517052, 0.17482948],\n",
       "       [0.74393253, 0.25606747],\n",
       "       [0.49628351, 0.50371649],\n",
       "       [0.48721996, 0.51278004],\n",
       "       [0.91743422, 0.08256578],\n",
       "       [0.53504087, 0.46495913],\n",
       "       [0.19742639, 0.80257361],\n",
       "       [0.9266102 , 0.0733898 ],\n",
       "       [0.95020703, 0.04979297],\n",
       "       [0.63122513, 0.36877487],\n",
       "       [0.77920428, 0.22079572],\n",
       "       [0.72210085, 0.27789915],\n",
       "       [0.98359624, 0.01640376],\n",
       "       [0.03368511, 0.96631489],\n",
       "       [0.15621772, 0.84378228],\n",
       "       [0.58368522, 0.41631478],\n",
       "       [0.99638415, 0.00361585],\n",
       "       [0.40536203, 0.59463797],\n",
       "       [0.90461774, 0.09538226],\n",
       "       [0.77855031, 0.22144969],\n",
       "       [0.30993696, 0.69006304],\n",
       "       [0.63478157, 0.36521843],\n",
       "       [0.23293497, 0.76706503],\n",
       "       [0.96631838, 0.03368162],\n",
       "       [0.40247029, 0.59752971],\n",
       "       [0.24959499, 0.75040501],\n",
       "       [0.94753185, 0.05246815],\n",
       "       [0.18741445, 0.81258555],\n",
       "       [0.26170444, 0.73829556],\n",
       "       [0.67905252, 0.32094748],\n",
       "       [0.2299144 , 0.7700856 ],\n",
       "       [0.39088321, 0.60911679],\n",
       "       [0.31326109, 0.68673891],\n",
       "       [0.80877777, 0.19122223],\n",
       "       [0.88419364, 0.11580636],\n",
       "       [0.85276208, 0.14723792],\n",
       "       [0.53292953, 0.46707047],\n",
       "       [0.4389902 , 0.5610098 ],\n",
       "       [0.10295659, 0.89704341],\n",
       "       [0.67313657, 0.32686343],\n",
       "       [0.74853933, 0.25146067],\n",
       "       [0.71085332, 0.28914668],\n",
       "       [0.77486339, 0.22513661],\n",
       "       [0.17287637, 0.82712363],\n",
       "       [0.43012556, 0.56987444],\n",
       "       [0.79482828, 0.20517172],\n",
       "       [0.73178377, 0.26821623],\n",
       "       [0.38739081, 0.61260919],\n",
       "       [0.68387445, 0.31612555],\n",
       "       [0.76642226, 0.23357774],\n",
       "       [0.4523993 , 0.5476007 ],\n",
       "       [0.92402191, 0.07597809],\n",
       "       [0.84623642, 0.15376358],\n",
       "       [0.42146731, 0.57853269],\n",
       "       [0.27110088, 0.72889912],\n",
       "       [0.47349178, 0.52650822],\n",
       "       [0.2825215 , 0.7174785 ],\n",
       "       [0.09761961, 0.90238039],\n",
       "       [0.17911885, 0.82088115],\n",
       "       [0.65352583, 0.34647417],\n",
       "       [0.5183753 , 0.4816247 ],\n",
       "       [0.29708523, 0.70291477],\n",
       "       [0.77417426, 0.22582574],\n",
       "       [0.21838794, 0.78161206],\n",
       "       [0.02038036, 0.97961964],\n",
       "       [0.21233628, 0.78766372],\n",
       "       [0.11741539, 0.88258461],\n",
       "       [0.44564444, 0.55435556],\n",
       "       [0.8597837 , 0.1402163 ],\n",
       "       [0.4414905 , 0.5585095 ],\n",
       "       [0.48411095, 0.51588905],\n",
       "       [0.98440438, 0.01559562],\n",
       "       [0.39461279, 0.60538721],\n",
       "       [0.84271158, 0.15728842],\n",
       "       [0.85890483, 0.14109517],\n",
       "       [0.14916207, 0.85083793],\n",
       "       [0.60518764, 0.39481236],\n",
       "       [0.12139839, 0.87860161],\n",
       "       [0.02788607, 0.97211393],\n",
       "       [0.81189861, 0.18810139],\n",
       "       [0.99361829, 0.00638171],\n",
       "       [0.51407698, 0.48592302],\n",
       "       [0.38413125, 0.61586875],\n",
       "       [0.85576685, 0.14423315],\n",
       "       [0.96318559, 0.03681441],\n",
       "       [0.86902834, 0.13097166],\n",
       "       [0.17326833, 0.82673167],\n",
       "       [0.1515344 , 0.8484656 ],\n",
       "       [0.02628272, 0.97371728],\n",
       "       [0.39107122, 0.60892878],\n",
       "       [0.39907863, 0.60092137],\n",
       "       [0.93656102, 0.06343898],\n",
       "       [0.1708197 , 0.8291803 ],\n",
       "       [0.97903229, 0.02096771],\n",
       "       [0.99555704, 0.00444296],\n",
       "       [0.27987582, 0.72012418],\n",
       "       [0.03548711, 0.96451289],\n",
       "       [0.61196375, 0.38803625],\n",
       "       [0.12509144, 0.87490856],\n",
       "       [0.55191032, 0.44808968],\n",
       "       [0.17840128, 0.82159872],\n",
       "       [0.12607178, 0.87392822],\n",
       "       [0.22856072, 0.77143928],\n",
       "       [0.15251509, 0.84748491],\n",
       "       [0.8997584 , 0.1002416 ],\n",
       "       [0.22099575, 0.77900425],\n",
       "       [0.15300215, 0.84699785],\n",
       "       [0.83296568, 0.16703432],\n",
       "       [0.83024742, 0.16975258],\n",
       "       [0.77114848, 0.22885152],\n",
       "       [0.37622105, 0.62377895],\n",
       "       [0.98080806, 0.01919194],\n",
       "       [0.44677115, 0.55322885],\n",
       "       [0.75710208, 0.24289792],\n",
       "       [0.14814429, 0.85185571],\n",
       "       [0.54646636, 0.45353364],\n",
       "       [0.36278525, 0.63721475],\n",
       "       [0.02398637, 0.97601363],\n",
       "       [0.43456539, 0.56543461],\n",
       "       [0.19141668, 0.80858332],\n",
       "       [0.10613501, 0.89386499],\n",
       "       [0.92062633, 0.07937367],\n",
       "       [0.95439454, 0.04560546],\n",
       "       [0.76637684, 0.23362316],\n",
       "       [0.74246464, 0.25753536],\n",
       "       [0.94535349, 0.05464651],\n",
       "       [0.17366609, 0.82633391],\n",
       "       [0.92026661, 0.07973339],\n",
       "       [0.18675284, 0.81324716],\n",
       "       [0.09333741, 0.90666259],\n",
       "       [0.30177443, 0.69822557],\n",
       "       [0.27981176, 0.72018824],\n",
       "       [0.00979682, 0.99020318],\n",
       "       [0.28041972, 0.71958028],\n",
       "       [0.00482268, 0.99517732],\n",
       "       [0.98920047, 0.01079953],\n",
       "       [0.96486435, 0.03513565],\n",
       "       [0.74317223, 0.25682777],\n",
       "       [0.49261949, 0.50738051],\n",
       "       [0.36817364, 0.63182636],\n",
       "       [0.97065909, 0.02934091],\n",
       "       [0.76336626, 0.23663374],\n",
       "       [0.25415028, 0.74584972],\n",
       "       [0.91272485, 0.08727515],\n",
       "       [0.89624331, 0.10375669],\n",
       "       [0.47174267, 0.52825733],\n",
       "       [0.04720209, 0.95279791],\n",
       "       [0.28868676, 0.71131324],\n",
       "       [0.74836739, 0.25163261],\n",
       "       [0.25967243, 0.74032757],\n",
       "       [0.01045314, 0.98954686],\n",
       "       [0.07093079, 0.92906921],\n",
       "       [0.12104416, 0.87895584],\n",
       "       [0.82040954, 0.17959046],\n",
       "       [0.56145071, 0.43854929],\n",
       "       [0.77833811, 0.22166189],\n",
       "       [0.95657824, 0.04342176],\n",
       "       [0.03547034, 0.96452966],\n",
       "       [0.21796043, 0.78203957],\n",
       "       [0.93165271, 0.06834729],\n",
       "       [0.97329881, 0.02670119],\n",
       "       [0.673878  , 0.326122  ],\n",
       "       [0.58392318, 0.41607682],\n",
       "       [0.23661487, 0.76338513],\n",
       "       [0.00574715, 0.99425285],\n",
       "       [0.97735735, 0.02264265],\n",
       "       [0.43502985, 0.56497015],\n",
       "       [0.91140073, 0.08859927],\n",
       "       [0.06248332, 0.93751668],\n",
       "       [0.7391818 , 0.2608182 ],\n",
       "       [0.39832324, 0.60167676],\n",
       "       [0.33945117, 0.66054883],\n",
       "       [0.87786411, 0.12213589],\n",
       "       [0.3227532 , 0.6772468 ],\n",
       "       [0.14864014, 0.85135986],\n",
       "       [0.55489605, 0.44510395],\n",
       "       [0.5079194 , 0.4920806 ],\n",
       "       [0.13546267, 0.86453733],\n",
       "       [0.16476849, 0.83523151],\n",
       "       [0.00273433, 0.99726567],\n",
       "       [0.02479215, 0.97520785],\n",
       "       [0.36773744, 0.63226256],\n",
       "       [0.2477621 , 0.7522379 ],\n",
       "       [0.01887052, 0.98112948],\n",
       "       [0.71931965, 0.28068035],\n",
       "       [0.42319688, 0.57680312],\n",
       "       [0.82752075, 0.17247925],\n",
       "       [0.7062836 , 0.2937164 ],\n",
       "       [0.81251727, 0.18748273],\n",
       "       [0.78936596, 0.21063404],\n",
       "       [0.44193823, 0.55806177],\n",
       "       [0.78058451, 0.21941549],\n",
       "       [0.0218323 , 0.9781677 ],\n",
       "       [0.56038678, 0.43961322],\n",
       "       [0.33014954, 0.66985046]])"
      ]
     },
     "execution_count": 31,
     "metadata": {},
     "output_type": "execute_result"
    }
   ],
   "source": [
    "# Clasification\n",
    "my_model.predict_proba(demo_classification.x_test)"
   ]
  },
  {
   "cell_type": "code",
   "execution_count": null,
   "metadata": {},
   "outputs": [],
   "source": []
  }
 ],
 "metadata": {
  "kernelspec": {
   "display_name": "Python [conda env:mlflow_demo]",
   "language": "python",
   "name": "conda-env-mlflow_demo-py"
  },
  "language_info": {
   "codemirror_mode": {
    "name": "ipython",
    "version": 3
   },
   "file_extension": ".py",
   "mimetype": "text/x-python",
   "name": "python",
   "nbconvert_exporter": "python",
   "pygments_lexer": "ipython3",
   "version": "3.8.13"
  }
 },
 "nbformat": 4,
 "nbformat_minor": 4
}
