{
 "cells": [
  {
   "cell_type": "code",
   "execution_count": 1,
   "metadata": {},
   "outputs": [
    {
     "name": "stdout",
     "output_type": "stream",
     "text": [
      "The history saving thread hit an unexpected error (DatabaseError('database disk image is malformed')).History will not be written to the database.\n"
     ]
    }
   ],
   "source": [
    "%load_ext autoreload\n",
    "%autoreload 2\n",
    "\n",
    "import udf_utils\n",
    "from sklearn import linear_model\n",
    "from sklearn import ensemble\n",
    "from sklearn.pipeline import Pipeline\n",
    "import sklearn.preprocessing as sk_prep\n",
    "import itertools"
   ]
  },
  {
   "cell_type": "markdown",
   "metadata": {},
   "source": [
    "## MLFlow demo\n",
    "\n",
    "This notebook have code to run some examples to use mlflow in machine learning problems"
   ]
  },
  {
   "cell_type": "markdown",
   "metadata": {},
   "source": [
    "### Regression examples\n",
    "\n",
    "1. First, we need to define the data to use, in this case the *problem_type* is **regression**"
   ]
  },
  {
   "cell_type": "code",
   "execution_count": 2,
   "metadata": {},
   "outputs": [],
   "source": [
    "demo_regression = udf_utils.ML_FLOW(problem_type = 'regression').generate_data()\n",
    "experiment_name = 'Regression problem1'"
   ]
  },
  {
   "cell_type": "markdown",
   "metadata": {},
   "source": [
    "2. Then, we need to define the model(s) and the hyperparameters to use in the trainning\n",
    "\n",
    "A first model could be a linear regression. This can be our base model."
   ]
  },
  {
   "cell_type": "code",
   "execution_count": 3,
   "metadata": {},
   "outputs": [
    {
     "name": "stderr",
     "output_type": "stream",
     "text": [
      "2022/10/26 17:51:18 INFO mlflow.tracking.fluent: Autologging successfully enabled for sklearn.\n",
      "2022/10/26 17:51:23 WARNING mlflow.utils.autologging_utils: MLflow autologging encountered a warning: \"/home/vasamayoa/miniconda3/envs/mlflow_demo/lib/python3.8/site-packages/_distutils_hack/__init__.py:33: UserWarning: Setuptools is replacing distutils.\"\n",
      "2022/10/26 17:51:24 INFO mlflow.tracking.fluent: Autologging successfully enabled for sklearn.\n"
     ]
    }
   ],
   "source": [
    "# Hyper parameters to use\n",
    "fit_intercept = [True, False]\n",
    "\n",
    "# Parameters defined by the user to log\n",
    "other_params = {'udf_model_type': 'Linear Regression', 'udf_regularization': 'None', 'udf_scaler': 'Standard'}\n",
    "\n",
    "def model_function(**kwargs):\n",
    "    \n",
    "    udf_pipeline = Pipeline([('scaler', sk_prep.StandardScaler()), ('regression', linear_model.LinearRegression(**kwargs))])\n",
    "    \n",
    "    return udf_pipeline\n",
    "\n",
    "for intercept_value in fit_intercept:\n",
    "    hyper_params = {'fit_intercept': intercept_value}\n",
    "    demo_regression.run_experiments_autolog(experiment_name, 'Base line model', model_function, hyper_params, other_params)"
   ]
  },
  {
   "cell_type": "markdown",
   "metadata": {},
   "source": [
    "Then we can start to use regularization os use complex model to see if we have an improvement."
   ]
  },
  {
   "cell_type": "code",
   "execution_count": 4,
   "metadata": {},
   "outputs": [
    {
     "name": "stderr",
     "output_type": "stream",
     "text": [
      "2022/10/26 17:51:27 INFO mlflow.tracking.fluent: Autologging successfully enabled for sklearn.\n",
      "2022/10/26 17:51:31 INFO mlflow.tracking.fluent: Autologging successfully enabled for sklearn.\n",
      "2022/10/26 17:51:35 INFO mlflow.tracking.fluent: Autologging successfully enabled for sklearn.\n",
      "2022/10/26 17:51:38 INFO mlflow.tracking.fluent: Autologging successfully enabled for sklearn.\n",
      "2022/10/26 17:51:43 INFO mlflow.tracking.fluent: Autologging successfully enabled for sklearn.\n",
      "2022/10/26 17:51:46 INFO mlflow.tracking.fluent: Autologging successfully enabled for sklearn.\n",
      "2022/10/26 17:51:50 INFO mlflow.tracking.fluent: Autologging successfully enabled for sklearn.\n",
      "2022/10/26 17:51:55 INFO mlflow.tracking.fluent: Autologging successfully enabled for sklearn.\n",
      "2022/10/26 17:51:59 INFO mlflow.tracking.fluent: Autologging successfully enabled for sklearn.\n",
      "2022/10/26 17:52:03 INFO mlflow.tracking.fluent: Autologging successfully enabled for sklearn.\n",
      "2022/10/26 17:52:07 INFO mlflow.tracking.fluent: Autologging successfully enabled for sklearn.\n",
      "2022/10/26 17:52:10 INFO mlflow.tracking.fluent: Autologging successfully enabled for sklearn.\n",
      "2022/10/26 17:52:13 INFO mlflow.tracking.fluent: Autologging successfully enabled for sklearn.\n",
      "2022/10/26 17:52:16 INFO mlflow.tracking.fluent: Autologging successfully enabled for sklearn.\n",
      "2022/10/26 17:52:19 INFO mlflow.tracking.fluent: Autologging successfully enabled for sklearn.\n",
      "2022/10/26 17:52:22 INFO mlflow.tracking.fluent: Autologging successfully enabled for sklearn.\n"
     ]
    }
   ],
   "source": [
    "# Hyper parameters to use\n",
    "fit_intercept = [True, False]\n",
    "regularization = [0.1, 0.5, 1.0, 2.0, 5.0, 10, 50, 100]\n",
    "\n",
    "# Parameters defined by the user to log\n",
    "other_params = {'udf_model_type': 'Ridge Regression', 'udf_scaler': 'Standard'}\n",
    "\n",
    "def model_function(**kwargs):\n",
    "    \n",
    "    udf_pipeline = Pipeline([('scaler', sk_prep.StandardScaler()), ('regression', linear_model.Ridge(**kwargs))])\n",
    "    \n",
    "    return udf_pipeline\n",
    "\n",
    "for intercept_value, alpha_value in itertools.product(fit_intercept, regularization):\n",
    "    hyper_params = {'fit_intercept': intercept_value,\n",
    "                    'alpha': alpha_value}\n",
    "    \n",
    "    demo_regression.run_experiments_autolog(experiment_name, 'Complex model', model_function, hyper_params, other_params)"
   ]
  },
  {
   "cell_type": "code",
   "execution_count": 5,
   "metadata": {},
   "outputs": [
    {
     "name": "stderr",
     "output_type": "stream",
     "text": [
      "2022/10/26 17:52:25 INFO mlflow.tracking.fluent: Autologging successfully enabled for sklearn.\n",
      "2022/10/26 17:52:28 INFO mlflow.tracking.fluent: Autologging successfully enabled for sklearn.\n",
      "2022/10/26 17:52:31 INFO mlflow.tracking.fluent: Autologging successfully enabled for sklearn.\n",
      "2022/10/26 17:52:34 INFO mlflow.tracking.fluent: Autologging successfully enabled for sklearn.\n",
      "2022/10/26 17:52:37 INFO mlflow.tracking.fluent: Autologging successfully enabled for sklearn.\n",
      "2022/10/26 17:52:40 INFO mlflow.tracking.fluent: Autologging successfully enabled for sklearn.\n",
      "2022/10/26 17:52:43 INFO mlflow.tracking.fluent: Autologging successfully enabled for sklearn.\n",
      "2022/10/26 17:52:46 INFO mlflow.tracking.fluent: Autologging successfully enabled for sklearn.\n",
      "2022/10/26 17:52:48 INFO mlflow.tracking.fluent: Autologging successfully enabled for sklearn.\n",
      "2022/10/26 17:52:52 INFO mlflow.tracking.fluent: Autologging successfully enabled for sklearn.\n",
      "2022/10/26 17:52:55 INFO mlflow.tracking.fluent: Autologging successfully enabled for sklearn.\n",
      "2022/10/26 17:52:58 INFO mlflow.tracking.fluent: Autologging successfully enabled for sklearn.\n",
      "2022/10/26 17:53:01 INFO mlflow.tracking.fluent: Autologging successfully enabled for sklearn.\n",
      "2022/10/26 17:53:03 INFO mlflow.tracking.fluent: Autologging successfully enabled for sklearn.\n",
      "2022/10/26 17:53:07 INFO mlflow.tracking.fluent: Autologging successfully enabled for sklearn.\n",
      "2022/10/26 17:53:10 INFO mlflow.tracking.fluent: Autologging successfully enabled for sklearn.\n"
     ]
    }
   ],
   "source": [
    "# Hyper parameters to use\n",
    "fit_intercept = [True, False]\n",
    "regularization = [0.1, 0.5, 1.0, 2.0, 5.0, 10, 50, 100]\n",
    "\n",
    "# Parameters defined by the user to log\n",
    "other_params = {'udf_model_type': 'Lasso Regression', 'udf_scaler': 'Standard'}\n",
    "\n",
    "def model_function(**kwargs):\n",
    "    \n",
    "    udf_pipeline = Pipeline([('scaler', sk_prep.StandardScaler()), ('regression', linear_model.Lasso(**kwargs))])\n",
    "    \n",
    "    return udf_pipeline\n",
    "\n",
    "for intercept_value, alpha_value in itertools.product(fit_intercept, regularization):\n",
    "    hyper_params = {'fit_intercept': intercept_value,\n",
    "                    'alpha': alpha_value}\n",
    "    \n",
    "    demo_regression.run_experiments_autolog(experiment_name, 'Complex model', model_function, hyper_params, other_params)"
   ]
  },
  {
   "cell_type": "markdown",
   "metadata": {},
   "source": [
    "### Classification examples\n",
    "\n",
    "\n",
    "1. First, we need to define the data to use, in this case the *problem_type* is **classification**"
   ]
  },
  {
   "cell_type": "code",
   "execution_count": 6,
   "metadata": {},
   "outputs": [],
   "source": [
    "demo_classification = udf_utils.ML_FLOW(problem_type = 'classification').generate_data(n_classes = 2)\n",
    "experiment_name = 'Classification problem'"
   ]
  },
  {
   "cell_type": "markdown",
   "metadata": {},
   "source": [
    "2. Then, we need to define the model(s) and the hyperparameters to use in the trainning\n",
    "\n",
    "A first model could be a logistic regression. This can be our base model."
   ]
  },
  {
   "cell_type": "code",
   "execution_count": 7,
   "metadata": {},
   "outputs": [
    {
     "name": "stderr",
     "output_type": "stream",
     "text": [
      "2022/10/26 17:53:13 INFO mlflow.tracking.fluent: Autologging successfully enabled for sklearn.\n",
      "2022/10/26 17:53:20 INFO mlflow.tracking.fluent: Autologging successfully enabled for sklearn.\n"
     ]
    }
   ],
   "source": [
    "fit_intercept = [True, False]\n",
    "other_params = {'udf_model_type': 'Logistic Regression', 'udf_regularization': 'None', 'udf_scaler': 'Standard'}\n",
    "\n",
    "def model_function(**kwargs):\n",
    "    \n",
    "    udf_pipeline = Pipeline([('scaler', sk_prep.StandardScaler()), ('classification', linear_model.LogisticRegression(**kwargs))])\n",
    "    \n",
    "    return udf_pipeline\n",
    "\n",
    "for intercept_value in fit_intercept:\n",
    "    hyper_params = {'fit_intercept': intercept_value}\n",
    "    demo_classification.run_experiments_autolog(experiment_name, 'Base line model', model_function, hyper_params, other_params)"
   ]
  },
  {
   "cell_type": "markdown",
   "metadata": {},
   "source": [
    "Then we can start to use regularization os use complex model to see if we have an improvement."
   ]
  },
  {
   "cell_type": "code",
   "execution_count": 8,
   "metadata": {},
   "outputs": [
    {
     "name": "stderr",
     "output_type": "stream",
     "text": [
      "2022/10/26 17:53:26 INFO mlflow.tracking.fluent: Autologging successfully enabled for sklearn.\n",
      "2022/10/26 17:53:32 INFO mlflow.tracking.fluent: Autologging successfully enabled for sklearn.\n",
      "2022/10/26 17:53:37 INFO mlflow.tracking.fluent: Autologging successfully enabled for sklearn.\n",
      "2022/10/26 17:53:42 INFO mlflow.tracking.fluent: Autologging successfully enabled for sklearn.\n",
      "2022/10/26 17:53:47 INFO mlflow.tracking.fluent: Autologging successfully enabled for sklearn.\n",
      "2022/10/26 17:53:52 INFO mlflow.tracking.fluent: Autologging successfully enabled for sklearn.\n",
      "2022/10/26 17:53:59 INFO mlflow.tracking.fluent: Autologging successfully enabled for sklearn.\n",
      "2022/10/26 17:54:05 INFO mlflow.tracking.fluent: Autologging successfully enabled for sklearn.\n",
      "2022/10/26 17:54:11 INFO mlflow.tracking.fluent: Autologging successfully enabled for sklearn.\n",
      "/home/vasamayoa/miniconda3/envs/mlflow_demo/lib/python3.8/site-packages/sklearn/metrics/_classification.py:1334: UndefinedMetricWarning: Precision is ill-defined and being set to 0.0 in labels with no predicted samples. Use `zero_division` parameter to control this behavior.\n",
      "  _warn_prf(average, modifier, msg_start, len(result))\n",
      "/home/vasamayoa/miniconda3/envs/mlflow_demo/lib/python3.8/site-packages/sklearn/metrics/_classification.py:1334: UndefinedMetricWarning: Precision is ill-defined and being set to 0.0 in labels with no predicted samples. Use `zero_division` parameter to control this behavior.\n",
      "  _warn_prf(average, modifier, msg_start, len(result))\n",
      "2022/10/26 17:54:16 INFO mlflow.tracking.fluent: Autologging successfully enabled for sklearn.\n",
      "2022/10/26 17:54:22 INFO mlflow.tracking.fluent: Autologging successfully enabled for sklearn.\n",
      "2022/10/26 17:54:27 INFO mlflow.tracking.fluent: Autologging successfully enabled for sklearn.\n",
      "2022/10/26 17:54:32 INFO mlflow.tracking.fluent: Autologging successfully enabled for sklearn.\n",
      "2022/10/26 17:54:37 INFO mlflow.tracking.fluent: Autologging successfully enabled for sklearn.\n",
      "2022/10/26 17:54:42 INFO mlflow.tracking.fluent: Autologging successfully enabled for sklearn.\n",
      "/home/vasamayoa/miniconda3/envs/mlflow_demo/lib/python3.8/site-packages/sklearn/linear_model/_sag.py:350: ConvergenceWarning: The max_iter was reached which means the coef_ did not converge\n",
      "  warnings.warn(\n",
      "2022/10/26 17:54:49 INFO mlflow.tracking.fluent: Autologging successfully enabled for sklearn.\n",
      "/home/vasamayoa/miniconda3/envs/mlflow_demo/lib/python3.8/site-packages/sklearn/linear_model/_sag.py:350: ConvergenceWarning: The max_iter was reached which means the coef_ did not converge\n",
      "  warnings.warn(\n",
      "2022/10/26 17:54:59 INFO mlflow.tracking.fluent: Autologging successfully enabled for sklearn.\n",
      "2022/10/26 17:55:05 INFO mlflow.tracking.fluent: Autologging successfully enabled for sklearn.\n",
      "2022/10/26 17:55:12 INFO mlflow.tracking.fluent: Autologging successfully enabled for sklearn.\n",
      "2022/10/26 17:55:18 INFO mlflow.tracking.fluent: Autologging successfully enabled for sklearn.\n",
      "2022/10/26 17:55:25 INFO mlflow.tracking.fluent: Autologging successfully enabled for sklearn.\n",
      "2022/10/26 17:55:31 INFO mlflow.tracking.fluent: Autologging successfully enabled for sklearn.\n",
      "2022/10/26 17:55:37 INFO mlflow.tracking.fluent: Autologging successfully enabled for sklearn.\n",
      "2022/10/26 17:55:43 INFO mlflow.tracking.fluent: Autologging successfully enabled for sklearn.\n",
      "2022/10/26 17:55:48 INFO mlflow.tracking.fluent: Autologging successfully enabled for sklearn.\n",
      "/home/vasamayoa/miniconda3/envs/mlflow_demo/lib/python3.8/site-packages/sklearn/metrics/_classification.py:1334: UndefinedMetricWarning: Precision is ill-defined and being set to 0.0 in labels with no predicted samples. Use `zero_division` parameter to control this behavior.\n",
      "  _warn_prf(average, modifier, msg_start, len(result))\n",
      "/home/vasamayoa/miniconda3/envs/mlflow_demo/lib/python3.8/site-packages/sklearn/metrics/_classification.py:1334: UndefinedMetricWarning: Precision is ill-defined and being set to 0.0 in labels with no predicted samples. Use `zero_division` parameter to control this behavior.\n",
      "  _warn_prf(average, modifier, msg_start, len(result))\n",
      "2022/10/26 17:55:54 INFO mlflow.tracking.fluent: Autologging successfully enabled for sklearn.\n",
      "2022/10/26 17:56:00 INFO mlflow.tracking.fluent: Autologging successfully enabled for sklearn.\n",
      "2022/10/26 17:56:05 INFO mlflow.tracking.fluent: Autologging successfully enabled for sklearn.\n",
      "2022/10/26 17:56:11 INFO mlflow.tracking.fluent: Autologging successfully enabled for sklearn.\n",
      "2022/10/26 17:56:16 INFO mlflow.tracking.fluent: Autologging successfully enabled for sklearn.\n",
      "/home/vasamayoa/miniconda3/envs/mlflow_demo/lib/python3.8/site-packages/sklearn/linear_model/_sag.py:350: ConvergenceWarning: The max_iter was reached which means the coef_ did not converge\n",
      "  warnings.warn(\n",
      "2022/10/26 17:56:22 INFO mlflow.tracking.fluent: Autologging successfully enabled for sklearn.\n",
      "/home/vasamayoa/miniconda3/envs/mlflow_demo/lib/python3.8/site-packages/sklearn/linear_model/_sag.py:350: ConvergenceWarning: The max_iter was reached which means the coef_ did not converge\n",
      "  warnings.warn(\n",
      "2022/10/26 17:56:27 INFO mlflow.tracking.fluent: Autologging successfully enabled for sklearn.\n",
      "/home/vasamayoa/miniconda3/envs/mlflow_demo/lib/python3.8/site-packages/sklearn/linear_model/_sag.py:350: ConvergenceWarning: The max_iter was reached which means the coef_ did not converge\n",
      "  warnings.warn(\n"
     ]
    }
   ],
   "source": [
    "# Hyper parameters to use\n",
    "fit_intercept = [True, False]\n",
    "penalty = ['l2', 'l1']\n",
    "regularization = [0.001, 0.01, 0.05, 0.1, 0.5, 1, 5, 10]\n",
    "\n",
    "# Parameters defined by the user to log\n",
    "other_params = {'udf_model_type': 'Logistic Regression', 'udf_scaler': 'Standard'}\n",
    "\n",
    "def model_function(**kwargs):\n",
    "    \n",
    "    # Solver saga allow all the penalties\n",
    "    udf_pipeline = Pipeline([('scaler', sk_prep.StandardScaler()), ('classification', linear_model.LogisticRegression(**kwargs, solver = 'saga'))])\n",
    "    \n",
    "    return udf_pipeline\n",
    "\n",
    "for intercept_value, penalty_type, c_value in itertools.product(fit_intercept, penalty, regularization):\n",
    "    hyper_params = {'fit_intercept': intercept_value,\n",
    "                    'penalty': penalty_type,\n",
    "                    'C': c_value}\n",
    "    \n",
    "    demo_classification.run_experiments_autolog(experiment_name, 'Complex model', model_function, hyper_params, other_params)"
   ]
  },
  {
   "cell_type": "code",
   "execution_count": 9,
   "metadata": {},
   "outputs": [
    {
     "name": "stderr",
     "output_type": "stream",
     "text": [
      "2022/10/26 17:56:33 INFO mlflow.tracking.fluent: Autologging successfully enabled for sklearn.\n",
      "/home/vasamayoa/miniconda3/envs/mlflow_demo/lib/python3.8/site-packages/sklearn/metrics/_classification.py:1334: UndefinedMetricWarning: Precision is ill-defined and being set to 0.0 in labels with no predicted samples. Use `zero_division` parameter to control this behavior.\n",
      "  _warn_prf(average, modifier, msg_start, len(result))\n",
      "/home/vasamayoa/miniconda3/envs/mlflow_demo/lib/python3.8/site-packages/sklearn/metrics/_classification.py:1334: UndefinedMetricWarning: Precision is ill-defined and being set to 0.0 in labels with no predicted samples. Use `zero_division` parameter to control this behavior.\n",
      "  _warn_prf(average, modifier, msg_start, len(result))\n",
      "2022/10/26 17:56:39 INFO mlflow.tracking.fluent: Autologging successfully enabled for sklearn.\n",
      "/home/vasamayoa/miniconda3/envs/mlflow_demo/lib/python3.8/site-packages/sklearn/metrics/_classification.py:1334: UndefinedMetricWarning: Precision is ill-defined and being set to 0.0 in labels with no predicted samples. Use `zero_division` parameter to control this behavior.\n",
      "  _warn_prf(average, modifier, msg_start, len(result))\n",
      "/home/vasamayoa/miniconda3/envs/mlflow_demo/lib/python3.8/site-packages/sklearn/metrics/_classification.py:1334: UndefinedMetricWarning: Precision is ill-defined and being set to 0.0 in labels with no predicted samples. Use `zero_division` parameter to control this behavior.\n",
      "  _warn_prf(average, modifier, msg_start, len(result))\n",
      "2022/10/26 17:56:44 INFO mlflow.tracking.fluent: Autologging successfully enabled for sklearn.\n",
      "/home/vasamayoa/miniconda3/envs/mlflow_demo/lib/python3.8/site-packages/sklearn/metrics/_classification.py:1334: UndefinedMetricWarning: Precision is ill-defined and being set to 0.0 in labels with no predicted samples. Use `zero_division` parameter to control this behavior.\n",
      "  _warn_prf(average, modifier, msg_start, len(result))\n",
      "/home/vasamayoa/miniconda3/envs/mlflow_demo/lib/python3.8/site-packages/sklearn/metrics/_classification.py:1334: UndefinedMetricWarning: Precision is ill-defined and being set to 0.0 in labels with no predicted samples. Use `zero_division` parameter to control this behavior.\n",
      "  _warn_prf(average, modifier, msg_start, len(result))\n",
      "2022/10/26 17:56:50 INFO mlflow.tracking.fluent: Autologging successfully enabled for sklearn.\n",
      "2022/10/26 17:56:56 INFO mlflow.tracking.fluent: Autologging successfully enabled for sklearn.\n",
      "2022/10/26 17:57:01 INFO mlflow.tracking.fluent: Autologging successfully enabled for sklearn.\n",
      "2022/10/26 17:57:07 INFO mlflow.tracking.fluent: Autologging successfully enabled for sklearn.\n",
      "2022/10/26 17:57:12 INFO mlflow.tracking.fluent: Autologging successfully enabled for sklearn.\n",
      "2022/10/26 17:57:18 INFO mlflow.tracking.fluent: Autologging successfully enabled for sklearn.\n",
      "2022/10/26 17:57:23 INFO mlflow.tracking.fluent: Autologging successfully enabled for sklearn.\n",
      "2022/10/26 17:57:30 INFO mlflow.tracking.fluent: Autologging successfully enabled for sklearn.\n",
      "2022/10/26 17:57:38 INFO mlflow.tracking.fluent: Autologging successfully enabled for sklearn.\n",
      "2022/10/26 17:57:45 INFO mlflow.tracking.fluent: Autologging successfully enabled for sklearn.\n",
      "2022/10/26 17:57:50 INFO mlflow.tracking.fluent: Autologging successfully enabled for sklearn.\n",
      "/home/vasamayoa/miniconda3/envs/mlflow_demo/lib/python3.8/site-packages/sklearn/linear_model/_sag.py:350: ConvergenceWarning: The max_iter was reached which means the coef_ did not converge\n",
      "  warnings.warn(\n",
      "2022/10/26 17:57:57 INFO mlflow.tracking.fluent: Autologging successfully enabled for sklearn.\n",
      "/home/vasamayoa/miniconda3/envs/mlflow_demo/lib/python3.8/site-packages/sklearn/linear_model/_sag.py:350: ConvergenceWarning: The max_iter was reached which means the coef_ did not converge\n",
      "  warnings.warn(\n",
      "2022/10/26 17:58:02 INFO mlflow.tracking.fluent: Autologging successfully enabled for sklearn.\n",
      "/home/vasamayoa/miniconda3/envs/mlflow_demo/lib/python3.8/site-packages/sklearn/linear_model/_sag.py:350: ConvergenceWarning: The max_iter was reached which means the coef_ did not converge\n",
      "  warnings.warn(\n",
      "2022/10/26 17:58:08 INFO mlflow.tracking.fluent: Autologging successfully enabled for sklearn.\n",
      "/home/vasamayoa/miniconda3/envs/mlflow_demo/lib/python3.8/site-packages/sklearn/linear_model/_sag.py:350: ConvergenceWarning: The max_iter was reached which means the coef_ did not converge\n",
      "  warnings.warn(\n",
      "2022/10/26 17:58:13 INFO mlflow.tracking.fluent: Autologging successfully enabled for sklearn.\n",
      "/home/vasamayoa/miniconda3/envs/mlflow_demo/lib/python3.8/site-packages/sklearn/linear_model/_sag.py:350: ConvergenceWarning: The max_iter was reached which means the coef_ did not converge\n",
      "  warnings.warn(\n",
      "2022/10/26 17:58:19 INFO mlflow.tracking.fluent: Autologging successfully enabled for sklearn.\n",
      "/home/vasamayoa/miniconda3/envs/mlflow_demo/lib/python3.8/site-packages/sklearn/metrics/_classification.py:1334: UndefinedMetricWarning: Precision is ill-defined and being set to 0.0 in labels with no predicted samples. Use `zero_division` parameter to control this behavior.\n",
      "  _warn_prf(average, modifier, msg_start, len(result))\n",
      "/home/vasamayoa/miniconda3/envs/mlflow_demo/lib/python3.8/site-packages/sklearn/metrics/_classification.py:1334: UndefinedMetricWarning: Precision is ill-defined and being set to 0.0 in labels with no predicted samples. Use `zero_division` parameter to control this behavior.\n",
      "  _warn_prf(average, modifier, msg_start, len(result))\n",
      "2022/10/26 17:58:25 INFO mlflow.tracking.fluent: Autologging successfully enabled for sklearn.\n",
      "/home/vasamayoa/miniconda3/envs/mlflow_demo/lib/python3.8/site-packages/sklearn/metrics/_classification.py:1334: UndefinedMetricWarning: Precision is ill-defined and being set to 0.0 in labels with no predicted samples. Use `zero_division` parameter to control this behavior.\n",
      "  _warn_prf(average, modifier, msg_start, len(result))\n",
      "/home/vasamayoa/miniconda3/envs/mlflow_demo/lib/python3.8/site-packages/sklearn/metrics/_classification.py:1334: UndefinedMetricWarning: Precision is ill-defined and being set to 0.0 in labels with no predicted samples. Use `zero_division` parameter to control this behavior.\n",
      "  _warn_prf(average, modifier, msg_start, len(result))\n",
      "2022/10/26 17:58:31 INFO mlflow.tracking.fluent: Autologging successfully enabled for sklearn.\n",
      "/home/vasamayoa/miniconda3/envs/mlflow_demo/lib/python3.8/site-packages/sklearn/metrics/_classification.py:1334: UndefinedMetricWarning: Precision is ill-defined and being set to 0.0 in labels with no predicted samples. Use `zero_division` parameter to control this behavior.\n",
      "  _warn_prf(average, modifier, msg_start, len(result))\n",
      "/home/vasamayoa/miniconda3/envs/mlflow_demo/lib/python3.8/site-packages/sklearn/metrics/_classification.py:1334: UndefinedMetricWarning: Precision is ill-defined and being set to 0.0 in labels with no predicted samples. Use `zero_division` parameter to control this behavior.\n",
      "  _warn_prf(average, modifier, msg_start, len(result))\n",
      "2022/10/26 17:58:36 INFO mlflow.tracking.fluent: Autologging successfully enabled for sklearn.\n",
      "2022/10/26 17:58:42 INFO mlflow.tracking.fluent: Autologging successfully enabled for sklearn.\n",
      "2022/10/26 17:58:48 INFO mlflow.tracking.fluent: Autologging successfully enabled for sklearn.\n",
      "2022/10/26 17:58:54 INFO mlflow.tracking.fluent: Autologging successfully enabled for sklearn.\n",
      "2022/10/26 17:59:00 INFO mlflow.tracking.fluent: Autologging successfully enabled for sklearn.\n",
      "2022/10/26 17:59:05 INFO mlflow.tracking.fluent: Autologging successfully enabled for sklearn.\n",
      "2022/10/26 17:59:12 INFO mlflow.tracking.fluent: Autologging successfully enabled for sklearn.\n",
      "2022/10/26 17:59:17 INFO mlflow.tracking.fluent: Autologging successfully enabled for sklearn.\n",
      "2022/10/26 17:59:23 INFO mlflow.tracking.fluent: Autologging successfully enabled for sklearn.\n",
      "2022/10/26 17:59:29 INFO mlflow.tracking.fluent: Autologging successfully enabled for sklearn.\n",
      "2022/10/26 17:59:37 INFO mlflow.tracking.fluent: Autologging successfully enabled for sklearn.\n",
      "2022/10/26 17:59:44 INFO mlflow.tracking.fluent: Autologging successfully enabled for sklearn.\n",
      "2022/10/26 17:59:50 INFO mlflow.tracking.fluent: Autologging successfully enabled for sklearn.\n",
      "/home/vasamayoa/miniconda3/envs/mlflow_demo/lib/python3.8/site-packages/sklearn/linear_model/_sag.py:350: ConvergenceWarning: The max_iter was reached which means the coef_ did not converge\n",
      "  warnings.warn(\n",
      "2022/10/26 17:59:56 INFO mlflow.tracking.fluent: Autologging successfully enabled for sklearn.\n",
      "/home/vasamayoa/miniconda3/envs/mlflow_demo/lib/python3.8/site-packages/sklearn/linear_model/_sag.py:350: ConvergenceWarning: The max_iter was reached which means the coef_ did not converge\n",
      "  warnings.warn(\n",
      "2022/10/26 18:00:03 INFO mlflow.tracking.fluent: Autologging successfully enabled for sklearn.\n",
      "/home/vasamayoa/miniconda3/envs/mlflow_demo/lib/python3.8/site-packages/sklearn/linear_model/_sag.py:350: ConvergenceWarning: The max_iter was reached which means the coef_ did not converge\n",
      "  warnings.warn(\n"
     ]
    }
   ],
   "source": [
    "# Hyper parameters to use\n",
    "fit_intercept = [True, False]\n",
    "penalty = ['elasticnet']\n",
    "regularization = [0.001, 0.01, 0.05, 0.1, 0.5, 0.9]\n",
    "l1_ratio = [0.25, 0.5, 0.75]\n",
    "\n",
    "# Parameters defined by the user to log\n",
    "other_params = {'udf_model_type': 'Logistic Regression', 'udf_scaler': 'Standard'}\n",
    "\n",
    "def model_function(**kwargs):\n",
    "    \n",
    "    # Solver saga allow all the penalties\n",
    "    udf_pipeline = Pipeline([('scaler', sk_prep.StandardScaler()), ('classification', linear_model.LogisticRegression(**kwargs, solver = 'saga'))])\n",
    "    \n",
    "    return udf_pipeline\n",
    "\n",
    "for intercept_value, penalty_type, c_value, l1_ratio_value in itertools.product(fit_intercept, penalty, regularization, l1_ratio):\n",
    "    hyper_params = {'fit_intercept': intercept_value,\n",
    "                    'penalty': penalty_type,\n",
    "                    'C': c_value,\n",
    "                    'l1_ratio': l1_ratio_value}\n",
    "    \n",
    "    demo_classification.run_experiments_autolog(experiment_name, 'Complex model', model_function, hyper_params, other_params)"
   ]
  },
  {
   "cell_type": "markdown",
   "metadata": {},
   "source": [
    "We can try with different kinds of algorithms like **random forest**"
   ]
  },
  {
   "cell_type": "code",
   "execution_count": 10,
   "metadata": {},
   "outputs": [
    {
     "name": "stderr",
     "output_type": "stream",
     "text": [
      "2022/10/26 18:00:16 INFO mlflow.tracking.fluent: Autologging successfully enabled for sklearn.\n",
      "2022/10/26 18:00:30 INFO mlflow.tracking.fluent: Autologging successfully enabled for sklearn.\n",
      "2022/10/26 18:00:37 INFO mlflow.tracking.fluent: Autologging successfully enabled for sklearn.\n",
      "2022/10/26 18:00:46 INFO mlflow.tracking.fluent: Autologging successfully enabled for sklearn.\n",
      "2022/10/26 18:00:56 INFO mlflow.tracking.fluent: Autologging successfully enabled for sklearn.\n",
      "2022/10/26 18:01:04 INFO mlflow.tracking.fluent: Autologging successfully enabled for sklearn.\n",
      "2022/10/26 18:01:11 INFO mlflow.tracking.fluent: Autologging successfully enabled for sklearn.\n",
      "2022/10/26 18:01:18 INFO mlflow.tracking.fluent: Autologging successfully enabled for sklearn.\n",
      "2022/10/26 18:01:25 INFO mlflow.tracking.fluent: Autologging successfully enabled for sklearn.\n",
      "2022/10/26 18:01:31 INFO mlflow.tracking.fluent: Autologging successfully enabled for sklearn.\n",
      "2022/10/26 18:01:38 INFO mlflow.tracking.fluent: Autologging successfully enabled for sklearn.\n",
      "2022/10/26 18:01:46 INFO mlflow.tracking.fluent: Autologging successfully enabled for sklearn.\n",
      "2022/10/26 18:01:54 INFO mlflow.tracking.fluent: Autologging successfully enabled for sklearn.\n",
      "2022/10/26 18:02:01 INFO mlflow.tracking.fluent: Autologging successfully enabled for sklearn.\n",
      "2022/10/26 18:02:08 INFO mlflow.tracking.fluent: Autologging successfully enabled for sklearn.\n",
      "2022/10/26 18:02:16 INFO mlflow.tracking.fluent: Autologging successfully enabled for sklearn.\n",
      "2022/10/26 18:02:22 INFO mlflow.tracking.fluent: Autologging successfully enabled for sklearn.\n",
      "2022/10/26 18:02:28 INFO mlflow.tracking.fluent: Autologging successfully enabled for sklearn.\n",
      "2022/10/26 18:02:34 INFO mlflow.tracking.fluent: Autologging successfully enabled for sklearn.\n",
      "2022/10/26 18:02:41 INFO mlflow.tracking.fluent: Autologging successfully enabled for sklearn.\n",
      "2022/10/26 18:02:48 INFO mlflow.tracking.fluent: Autologging successfully enabled for sklearn.\n",
      "2022/10/26 18:02:54 INFO mlflow.tracking.fluent: Autologging successfully enabled for sklearn.\n",
      "2022/10/26 18:03:01 INFO mlflow.tracking.fluent: Autologging successfully enabled for sklearn.\n",
      "2022/10/26 18:03:08 INFO mlflow.tracking.fluent: Autologging successfully enabled for sklearn.\n",
      "2022/10/26 18:03:14 INFO mlflow.tracking.fluent: Autologging successfully enabled for sklearn.\n",
      "2022/10/26 18:03:20 INFO mlflow.tracking.fluent: Autologging successfully enabled for sklearn.\n",
      "2022/10/26 18:03:26 INFO mlflow.tracking.fluent: Autologging successfully enabled for sklearn.\n",
      "2022/10/26 18:03:33 INFO mlflow.tracking.fluent: Autologging successfully enabled for sklearn.\n",
      "2022/10/26 18:03:39 INFO mlflow.tracking.fluent: Autologging successfully enabled for sklearn.\n",
      "2022/10/26 18:03:45 INFO mlflow.tracking.fluent: Autologging successfully enabled for sklearn.\n",
      "2022/10/26 18:03:52 INFO mlflow.tracking.fluent: Autologging successfully enabled for sklearn.\n",
      "2022/10/26 18:03:58 INFO mlflow.tracking.fluent: Autologging successfully enabled for sklearn.\n",
      "2022/10/26 18:04:05 INFO mlflow.tracking.fluent: Autologging successfully enabled for sklearn.\n",
      "2022/10/26 18:04:11 INFO mlflow.tracking.fluent: Autologging successfully enabled for sklearn.\n",
      "2022/10/26 18:04:18 INFO mlflow.tracking.fluent: Autologging successfully enabled for sklearn.\n",
      "2022/10/26 18:04:25 INFO mlflow.tracking.fluent: Autologging successfully enabled for sklearn.\n",
      "2022/10/26 18:04:31 INFO mlflow.tracking.fluent: Autologging successfully enabled for sklearn.\n",
      "2022/10/26 18:04:37 INFO mlflow.tracking.fluent: Autologging successfully enabled for sklearn.\n",
      "2022/10/26 18:04:44 INFO mlflow.tracking.fluent: Autologging successfully enabled for sklearn.\n",
      "2022/10/26 18:04:50 INFO mlflow.tracking.fluent: Autologging successfully enabled for sklearn.\n",
      "2022/10/26 18:04:57 INFO mlflow.tracking.fluent: Autologging successfully enabled for sklearn.\n",
      "2022/10/26 18:05:04 INFO mlflow.tracking.fluent: Autologging successfully enabled for sklearn.\n",
      "2022/10/26 18:05:10 INFO mlflow.tracking.fluent: Autologging successfully enabled for sklearn.\n",
      "2022/10/26 18:05:17 INFO mlflow.tracking.fluent: Autologging successfully enabled for sklearn.\n",
      "2022/10/26 18:05:24 INFO mlflow.tracking.fluent: Autologging successfully enabled for sklearn.\n",
      "2022/10/26 18:05:30 INFO mlflow.tracking.fluent: Autologging successfully enabled for sklearn.\n",
      "2022/10/26 18:05:36 INFO mlflow.tracking.fluent: Autologging successfully enabled for sklearn.\n",
      "2022/10/26 18:05:43 INFO mlflow.tracking.fluent: Autologging successfully enabled for sklearn.\n",
      "2022/10/26 18:05:50 INFO mlflow.tracking.fluent: Autologging successfully enabled for sklearn.\n",
      "2022/10/26 18:05:56 INFO mlflow.tracking.fluent: Autologging successfully enabled for sklearn.\n",
      "2022/10/26 18:06:03 INFO mlflow.tracking.fluent: Autologging successfully enabled for sklearn.\n",
      "2022/10/26 18:06:09 INFO mlflow.tracking.fluent: Autologging successfully enabled for sklearn.\n",
      "2022/10/26 18:06:16 INFO mlflow.tracking.fluent: Autologging successfully enabled for sklearn.\n",
      "2022/10/26 18:06:23 INFO mlflow.tracking.fluent: Autologging successfully enabled for sklearn.\n",
      "2022/10/26 18:06:30 INFO mlflow.tracking.fluent: Autologging successfully enabled for sklearn.\n",
      "2022/10/26 18:06:37 INFO mlflow.tracking.fluent: Autologging successfully enabled for sklearn.\n",
      "2022/10/26 18:06:44 INFO mlflow.tracking.fluent: Autologging successfully enabled for sklearn.\n",
      "2022/10/26 18:06:51 INFO mlflow.tracking.fluent: Autologging successfully enabled for sklearn.\n",
      "2022/10/26 18:06:57 INFO mlflow.tracking.fluent: Autologging successfully enabled for sklearn.\n",
      "2022/10/26 18:07:04 INFO mlflow.tracking.fluent: Autologging successfully enabled for sklearn.\n"
     ]
    }
   ],
   "source": [
    "# Hyper parameters to use\n",
    "n_estimators = [10, 20, 30, 40]\n",
    "criterion = ['gini', 'entropy', 'log_loss']\n",
    "max_features = ['sqrt', 'log2', 0.25, 0.5, 0.75]\n",
    "\n",
    "# Parameters defined by the user to log\n",
    "other_params = {'udf_model_type': 'Random Forest'}\n",
    "\n",
    "def model_function(**kwargs):\n",
    "    \n",
    "    udf_pipeline = Pipeline([('classification', ensemble.RandomForestClassifier(**kwargs))])\n",
    "    \n",
    "    return udf_pipeline\n",
    "\n",
    "for n_estimators_value, criterion_type, max_features_value in itertools.product(n_estimators, criterion, max_features):\n",
    "    hyper_params = {'n_estimators': n_estimators_value,\n",
    "                    'criterion': criterion_type,\n",
    "                    'max_features': max_features_value}\n",
    "    \n",
    "    demo_classification.run_experiments_autolog(experiment_name, 'Ensemble', model_function, hyper_params, other_params)"
   ]
  },
  {
   "cell_type": "code",
   "execution_count": null,
   "metadata": {},
   "outputs": [],
   "source": []
  }
 ],
 "metadata": {
  "kernelspec": {
   "display_name": "Python [conda env:mlflow_demo]",
   "language": "python",
   "name": "conda-env-mlflow_demo-py"
  },
  "language_info": {
   "codemirror_mode": {
    "name": "ipython",
    "version": 3
   },
   "file_extension": ".py",
   "mimetype": "text/x-python",
   "name": "python",
   "nbconvert_exporter": "python",
   "pygments_lexer": "ipython3",
   "version": "3.8.13"
  }
 },
 "nbformat": 4,
 "nbformat_minor": 4
}
